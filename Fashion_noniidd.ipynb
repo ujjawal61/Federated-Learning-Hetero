{
  "nbformat": 4,
  "nbformat_minor": 0,
  "metadata": {
    "colab": {
      "name": "Fashion-mnist_non-iid.ipynb",
      "private_outputs": true,
      "provenance": []
    },
    "kernelspec": {
      "name": "python3",
      "display_name": "Python 3"
    },
    "accelerator": "TPU"
  },
  "cells": [
    {
      "cell_type": "code",
      "metadata": {
        "id": "9LEaR1cB6ili"
      },
      "source": [
        ""
      ],
      "execution_count": null,
      "outputs": []
    },
    {
      "cell_type": "code",
      "metadata": {
        "id": "bzA07dxE61T_"
      },
      "source": [
        "from torchvision import datasets, transforms\n",
        "import numpy as np\n",
        "import random\n",
        "from sklearn.preprocessing import LabelBinarizer\n",
        "\n",
        "import tensorflow as tf\n",
        "from keras.layers import Dropout\n",
        "from tensorflow.keras.models import Sequential\n",
        "from tensorflow.keras.layers import Conv2D\n",
        "from tensorflow.keras.layers import MaxPooling2D\n",
        "from tensorflow.keras.layers import Activation\n",
        "from tensorflow.keras.layers import Flatten\n",
        "from tensorflow.keras.layers import Dense\n",
        "from tensorflow.keras.optimizers import SGD\n",
        "from tensorflow.keras import backend as K\n",
        "from sklearn.metrics import accuracy_score\n",
        "import matplotlib.pyplot as plt\n",
        "import cv2\n",
        "import os\n",
        "\n",
        "from tqdm import tqdm"
      ],
      "execution_count": null,
      "outputs": []
    },
    {
      "cell_type": "code",
      "metadata": {
        "id": "izxd8TE43dq6"
      },
      "source": [
        "resolver = tf.distribute.cluster_resolver.TPUClusterResolver(tpu='grpc://' + os.environ['COLAB_TPU_ADDR'])\n",
        "tf.config.experimental_connect_to_cluster(resolver)\n",
        "tf.tpu.experimental.initialize_tpu_system(resolver)\n",
        "strategy = tf.distribute.experimental.TPUStrategy(resolver)"
      ],
      "execution_count": null,
      "outputs": []
    },
    {
      "cell_type": "code",
      "metadata": {
        "id": "J2KLvpsP64vV"
      },
      "source": [
        "transform_train = transforms.Compose([\n",
        "    transforms.ToTensor(),\n",
        "    transforms.Normalize((0.5), (0.5,)),\n",
        "])\n",
        "transform_train_minor = transforms.Compose([\n",
        "    transforms.RandomPerspective(),\n",
        "    transforms.RandomCrop(32, padding=4),\n",
        "    transforms.RandomHorizontalFlip(),])"
      ],
      "execution_count": null,
      "outputs": []
    },
    {
      "cell_type": "code",
      "metadata": {
        "id": "GUwRg8Cb6-2m"
      },
      "source": [
        "dataset_train = datasets.FashionMNIST('../data/fashion-mnist', train=True, download = True, transform = transform_train)\n",
        "dataset_test = datasets.FashionMNIST('../data/fashion-mnist-t',train=False, download = True, transform = transform_train)"
      ],
      "execution_count": null,
      "outputs": []
    },
    {
      "cell_type": "code",
      "metadata": {
        "id": "-jGKdoxL7Ddd"
      },
      "source": [
        "#this function is sampling the cifar image index in non iid way, each client will have majority of 2 class and 8 minor class\n",
        "def fashion_mnist_noniid2(dataset, num_users, p):\n",
        "\n",
        "    idxs = np.arange(len(dataset),dtype=int)\n",
        "    labels = np.array(dataset.targets)\n",
        "    label_list = np.unique(dataset.targets)\n",
        "    \n",
        "    # sort labels\n",
        "    idxs_labels = np.vstack((idxs, labels))\n",
        "    idxs_labels = idxs_labels[:,idxs_labels[1,:].argsort()]\n",
        "    #print(idxs_labels)\n",
        "    idxs = idxs_labels[0,:]\n",
        "    idxs = idxs.astype(int)\n",
        "    n_data=int(len(dataset)/(num_users+1))\n",
        "    dict_users = {i: np.array([], dtype='int64') for i in range(num_users)}\n",
        "\n",
        "    #Sample majority class for each user\n",
        "    user_majority_labels = []\n",
        "    for i in range(num_users):\n",
        "        majority_labels = np.random.choice(label_list, 2, replace = False)\n",
        "        user_majority_labels.append(majority_labels)\n",
        "       # print(i,majority_labels)\n",
        "        majority_label_idxs = (majority_labels[0] == labels[idxs]) | (majority_labels[1] == labels[idxs])        \n",
        "        \n",
        "        sub_data_idxs = np.random.choice(idxs[majority_label_idxs], int(p*n_data), replace = False)\n",
        "        \n",
        "        dict_users[i] = np.concatenate((dict_users[i],sub_data_idxs))\n",
        "        idxs = np.array(list(set(idxs) - set(sub_data_idxs)))\n",
        "        \n",
        "        #assigning minor classes to each client\n",
        "    if(p < 1.0):\n",
        "        for i in range(num_users):\n",
        "            majority_labels = user_majority_labels[i]\n",
        "            \n",
        "            non_majority_label_idxs = (majority_labels[0] != labels[idxs]) & (majority_labels[1] != labels[idxs])\n",
        "            \n",
        "            sub_data_idxs = np.random.choice(idxs[non_majority_label_idxs], int((1-p)*n_data), replace = False)\n",
        "            \n",
        "            dict_users[i] = np.concatenate((dict_users[i], sub_data_idxs))\n",
        "            idxs = np.array(list(set(idxs) - set(sub_data_idxs)))\n",
        "    idx=int((1-p)*n_data)\n",
        "    return dict_users,idx"
      ],
      "execution_count": null,
      "outputs": []
    },
    {
      "cell_type": "code",
      "metadata": {
        "id": "qs9XZodo7FnF"
      },
      "source": [
        "num_user=10\n",
        "p=0.4\n",
        "dict_users,idx = fashion_mnist_noniid2(dataset_train,num_user,p)\n",
        "print('done sampling')"
      ],
      "execution_count": null,
      "outputs": []
    },
    {
      "cell_type": "code",
      "metadata": {
        "id": "PQh9RRxu7Gwc"
      },
      "source": [
        "#using image augmentation twice and add 2 transformed image\n",
        "def augment_image(dataset,idx,num_user):\n",
        "  dataset=list(dataset)\n",
        "  count=len(dataset)\n",
        "  final_idx=len(dataset)\n",
        "  for j in tqdm(range(num_user)):\n",
        "      for i in dict_users[j][idx:final_idx]: #starting from 400 because after 400 array will conatin indexes of minor class image \n",
        "          label=dataset[i][1]\n",
        "          new_image1=cv2.blur(dataset[i][0].numpy(),(2,2))\n",
        "          dataset.append([new_image1,label])   \n",
        "          count += 1\n",
        "          dict_users[j] = np.append(dict_users[j], count)\n",
        "          new_image2=transform_train_minor(dataset[i][0])\n",
        "          dataset.append([new_image2,label])   \n",
        "          count += 1\n",
        "          dict_users[j] = np.append(dict_users[j], count)  \n",
        "  return dict_users,dataset"
      ],
      "execution_count": null,
      "outputs": []
    },
    {
      "cell_type": "code",
      "metadata": {
        "id": "7WJGLM6_bSkH"
      },
      "source": [
        "dict_users,dataset_train=augment_image(dataset_train,idx,num_user)"
      ],
      "execution_count": null,
      "outputs": []
    },
    {
      "cell_type": "code",
      "metadata": {
        "id": "h5OUsc28kyqS"
      },
      "source": [
        "# code to check number of images/classes\n",
        "temp=list()\n",
        "for i in dict_users[0]:\n",
        "     temp.append(dataset_train[i][1])\n",
        "\n",
        "for i in range(10):\n",
        "     print(\"class\",i,'->',temp.count(i))"
      ],
      "execution_count": null,
      "outputs": []
    },
    {
      "cell_type": "code",
      "metadata": {
        "id": "qXn3GwWhDkVX"
      },
      "source": [
        "5453"
      ],
      "execution_count": null,
      "outputs": []
    },
    {
      "cell_type": "code",
      "metadata": {
        "id": "eeoPFXhC7ITW"
      },
      "source": [
        "#creating a batch data of 2500 imgs per client\n",
        "lb=LabelBinarizer()\n",
        "def batch_data(data_shard, bs=5453):\n",
        "    label=[]\n",
        "    for i in range(len(data_shard)):\n",
        "        label.append(dataset_train[i][1])\n",
        "    label=lb.fit_transform(label)\n",
        "    data=[]\n",
        "    for i in range(len(data_shard)):\n",
        "        data.append(dataset_train1[i]) \n",
        "    dataset = tf.data.Dataset.from_tensor_slices((list(data), list(label)))\n",
        "    return dataset.shuffle(len(label)).batch(bs)\n",
        "print('done label binarizing')"
      ],
      "execution_count": null,
      "outputs": []
    },
    {
      "cell_type": "code",
      "metadata": {
        "id": "ET_I4WH57JsY"
      },
      "source": [
        "ten_datatype=type(dataset_train[0][0])          \n",
        "#changing the tensor datatype to numpy datatype\n",
        "dataset_train1=[]\n",
        "for i in range(len(dataset_train)):\n",
        "    if(type(dataset_train[i][0])==ten_datatype):\n",
        "        temp=dataset_train[i][0].numpy()\n",
        "        dataset_train1.append(np.transpose(temp))\n",
        "\n",
        "#process and batch the training data for each client\n",
        "clients_batched = dict()\n",
        "for (client_name, data) in dict_users.items():\n",
        "    clients_batched[client_name] = batch_data(data)\n"
      ],
      "execution_count": null,
      "outputs": []
    },
    {
      "cell_type": "code",
      "metadata": {
        "id": "zWQ14gtI7K6g"
      },
      "source": [
        "testset1=[]\n",
        "for i in range(5000):\n",
        "    temp=dataset_test[i][0].numpy()\n",
        "    testset1.append(np.transpose(temp))  \n",
        "#process and batch the test set  \n",
        "label=[]\n",
        "data=[]\n",
        "for i in tqdm(range(5000)): #getting 2000 images only from testset to test the model\n",
        "    label.append(dataset_test[i][1])\n",
        "    data.append(testset1[i]) \n",
        "label=lb.fit_transform(label)\n",
        "      \n",
        "test_batched = tf.data.Dataset.from_tensor_slices((list(data), list(label))).batch(5000)\n",
        "\n",
        "del dataset_train\n",
        "del dataset_train1"
      ],
      "execution_count": null,
      "outputs": []
    },
    {
      "cell_type": "code",
      "metadata": {
        "id": "fWEReMKb7MU4"
      },
      "source": [
        "#building a simple NN\n",
        "class SimpleMLP:\n",
        "    @staticmethod\n",
        "    def build(classes):\n",
        "        model = Sequential()\n",
        "        model.add(Conv2D(32, (3, 3), activation='relu', kernel_initializer='he_uniform', padding='same', input_shape=(28,28,1)))\n",
        "        model.add(Conv2D(32, (3, 3), activation='relu', kernel_initializer='he_uniform', padding='same'))\n",
        "        model.add(MaxPooling2D((2, 2)))\n",
        "        model.add(Conv2D(64, (3, 3), activation='relu', kernel_initializer='he_uniform', padding='same'))\n",
        "        model.add(Conv2D(64, (3, 3), activation='relu', kernel_initializer='he_uniform', padding='same'))\n",
        "        model.add(MaxPooling2D((2, 2)))\n",
        "        model.add(Conv2D(128, (3, 3), activation='relu', kernel_initializer='he_uniform', padding='same'))\n",
        "        model.add(Conv2D(128, (3, 3), activation='relu', kernel_initializer='he_uniform', padding='same'))\n",
        "        model.add(MaxPooling2D((2, 2)))\n",
        "        model.add(Dropout(0.3))\n",
        "        model.add(Flatten())\n",
        "        model.add(Dense(128, activation='relu', kernel_initializer='he_uniform'))\n",
        "        model.add(Dropout(0.3))\n",
        "        model.add(Dense(classes, activation='softmax'))\n",
        "        model.compile(loss='categorical_crossentropy',\n",
        "                      optimizer=SGD(lr=0.001, decay=0.0002, momentum=0.9), \n",
        "                      metrics=['accuracy'])\n",
        "        return model"
      ],
      "execution_count": null,
      "outputs": []
    },
    {
      "cell_type": "code",
      "metadata": {
        "id": "a3NcbmHp7RrS"
      },
      "source": [
        "def weight_scalling_factor(clients_trn_data, client_name):\n",
        "    client_names = list(clients_trn_data.keys())\n",
        "    #get the bs\n",
        "    bs = list(clients_trn_data[client_name])[0][0].shape[0]\n",
        "    #first calculate the total training data points across clinets\n",
        "    global_count = sum([tf.data.experimental.cardinality(clients_trn_data[client_name]).numpy() for client_name in client_names])*bs\n",
        "    # get the total number of data points held by a client\n",
        "    local_count = tf.data.experimental.cardinality(clients_trn_data[client_name]).numpy()*bs\n",
        "    return local_count/global_count\n",
        "\n",
        "\n",
        "def scale_model_weights(weight, scalar):\n",
        "    '''function for scaling a models weights'''\n",
        "    weight_final = []\n",
        "    steps = len(weight)\n",
        "    for i in range(steps):\n",
        "        weight_final.append(scalar * weight[i])\n",
        "    return weight_final\n",
        "\n",
        "\n",
        "\n",
        "def sum_scaled_weights(scaled_weight_list):\n",
        "    '''Return the sum of the listed scaled weights. The is equivalent to scaled avg of the weights'''\n",
        "    avg_grad = list()\n",
        "    #get the average grad accross all client gradients\n",
        "    for grad_list_tuple in zip(*scaled_weight_list):\n",
        "        layer_mean = tf.math.reduce_sum(grad_list_tuple, axis=0)\n",
        "        avg_grad.append(layer_mean)\n",
        "        \n",
        "    return avg_grad\n",
        "\n",
        "\n",
        "def test_model(X_test, Y_test,  model, comm_round):\n",
        "    cce = tf.keras.losses.CategoricalCrossentropy(from_logits=True)\n",
        "    #logits = model.predict(X_test, batch_size=100)\n",
        "    logits = model.predict(X_test)\n",
        "    loss = cce(Y_test, logits)\n",
        "    acc = accuracy_score(tf.argmax(logits, axis=1), tf.argmax(Y_test, axis=1))\n",
        "    print('comm_round: {} | global_acc: {:.3%} | global_loss: {}'.format(comm_round, acc, loss))\n",
        "    return acc, loss"
      ],
      "execution_count": null,
      "outputs": []
    },
    {
      "cell_type": "code",
      "metadata": {
        "id": "pCILYXJ97TUU"
      },
      "source": [
        "#initialize global model\n",
        "\n",
        "smlp_global = SimpleMLP()\n",
        "global_model = smlp_global.build(10)\n",
        "comm_round=30      \n",
        "#commence global training loop\n",
        "for comm_round in range(comm_round):\n",
        "            \n",
        "    # get the global model's weights - will serve as the initial weights for all local models\n",
        "    global_weights = global_model.get_weights()\n",
        "    #print(global_weights)\n",
        "    #initial list to collect local model weights after scalling\n",
        "    scaled_local_weight_list = list()\n",
        "\n",
        "    #randomize client data - using keys\n",
        "    client_names= list(clients_batched.keys())\n",
        "    random.shuffle(client_names)\n",
        "    \n",
        "    #loop through each client and create new local model\n",
        "    for client in client_names:\n",
        "        with strategy.scope():\n",
        "          smlp_local = SimpleMLP()\n",
        "          local_model = smlp_local.build(10)\n",
        "        #set local model weight to the weight of the global model\n",
        "        local_model.set_weights(global_weights)\n",
        "        #fit local model with client's data\n",
        "        local_model.fit(clients_batched[client], epochs=10, verbose=0,validation_data=test_batched)\n",
        "        \n",
        "        #scale the model weights and add to list\n",
        "        scaling_factor = weight_scalling_factor(clients_batched, client)\n",
        "        scaled_weights = scale_model_weights(local_model.get_weights(), scaling_factor)\n",
        "        scaled_local_weight_list.append(scaled_weights)\n",
        "        \n",
        "        #clear session to free memory after each communication round\n",
        "        K.clear_session()\n",
        "        \n",
        "    #to get the average over all the local model, we simply take the sum of the scaled weights\n",
        "    average_weights = sum_scaled_weights(scaled_local_weight_list)\n",
        "    \n",
        "    #update global model \n",
        "    global_model.set_weights(average_weights)\n",
        "\n",
        "    #test global model and print out metrics after each communications round\n",
        "    for(X_test, Y_test) in test_batched:\n",
        "        global_acc, global_loss = test_model(X_test, Y_test, global_model, comm_round)"
      ],
      "execution_count": null,
      "outputs": []
    },
    {
      "cell_type": "code",
      "metadata": {
        "id": "8WBbOJFZ9GuA"
      },
      "source": [
        ""
      ],
      "execution_count": null,
      "outputs": []
    }
  ]
}