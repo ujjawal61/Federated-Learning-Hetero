{
 "cells": [
  {
   "cell_type": "code",
   "execution_count": 1,
   "metadata": {
    "id": "bzA07dxE61T_"
   },
   "outputs": [],
   "source": [
    "from torchvision import datasets\n",
    "import numpy as np\n",
    "import random\n",
    "from sklearn.preprocessing import LabelBinarizer\n",
    "import pandas as pd\n",
    "import seaborn as sns\n",
    "import tensorflow as tf\n",
    "from tensorflow.keras import backend as K\n",
    "from sklearn.metrics import accuracy_score\n",
    "import matplotlib.pyplot as plt\n",
    "from keras.models import model_from_json\n",
    "from augment import *\n",
    "import sample_data\n",
    "from utils import *\n",
    "import models"
   ]
  },
  {
   "cell_type": "code",
   "execution_count": 2,
   "metadata": {},
   "outputs": [],
   "source": [
    "#select what image size you want, large size cannot be accomodate in system,\n",
    "image_size=14 #have to be even"
   ]
  },
  {
   "cell_type": "code",
   "execution_count": 16,
   "metadata": {
    "id": "GUwRg8Cb6-2m"
   },
   "outputs": [
    {
     "name": "stdout",
     "output_type": "stream",
     "text": [
      "Files already downloaded and verified\n",
      "Files already downloaded and verified\n"
     ]
    }
   ],
   "source": [
    "#downloading the dataset\n",
    "# dataset_train = datasets.EMNIST('../data/cifar',split='digits', train=True, download = True, transform = basic(image_size))\n",
    "# dataset_test = datasets.EMNIST('../data/cifar-t',split='digits',train=False, download = True, transform = basic(image_size))\n",
    "dataset_train = datasets.CIFAR10('../data/cifar', train=True, download = True, transform = basic(image_size))\n",
    "dataset_test = datasets.CIFAR10('../data/cifar-t',train=False, download = True, transform = basic(image_size))"
   ]
  },
  {
   "cell_type": "code",
   "execution_count": 17,
   "metadata": {},
   "outputs": [],
   "source": [
    "#this is the image_size in(h,w,c) format that will be used \n",
    "image_shape=(image_size,image_size,dataset_train[0][0].shape[0])"
   ]
  },
  {
   "cell_type": "code",
   "execution_count": 6,
   "metadata": {
    "id": "qs9XZodo7FnF"
   },
   "outputs": [
    {
     "name": "stdout",
     "output_type": "stream",
     "text": [
      "User \t Majority Class \n",
      "\n",
      "0 \t [4 5]\n",
      "1 \t [9 0]\n",
      "2 \t [3 7]\n",
      "3 \t [9 5]\n",
      "4 \t [4 8]\n",
      "\n",
      "\n",
      "Number of Samples for Each user: 3332\n"
     ]
    },
    {
     "data": {
      "image/png": "[encoded data removed]",
      "text/plain": [
       "<Figure size 1080x720 with 1 Axes>"
      ]
     },
     "metadata": {
      "needs_background": "light"
     },
     "output_type": "display_data"
    }
   ],
   "source": [
    "num_user=5  #select the num of users\n",
    "p=0.7       #p is what percentage in each class, majority classs will cover the dataset(0.1-0.99)\n",
    "\n",
    "#below line will sample the dataset and create the dicts for each user that will contain the index of images\n",
    "#also prints the majority class that each user have\n",
    "print('User \\t Majority Class','\\n')\n",
    "dict_users,idx = sample_data.sampling(dataset_train,num_user,p)\n",
    "print('\\n')\n",
    "#you can evaluate this cell as much you want untill you satisfied with the distribution\n",
    "#it will help to create the barplot of count the number of images/class before augmentation\n",
    "samples=[]\n",
    "classes=[]\n",
    "temp=list()\n",
    "print('Number of Samples for Each user: '+str(len(dict_users[0])))\n",
    "for i in dict_users[0]: \n",
    "    temp.append(dataset_train[i][1])\n",
    "for i in range(10):\n",
    "    classes.append(i) \n",
    "    samples.append(temp.count(i))\n",
    "\n",
    "mydict={'class':classes,\n",
    "        'samples':samples}\n",
    "\n",
    "plt.figure(figsize=(15,10))\n",
    "df=pd.DataFrame(mydict,columns=['class','samples'])\n",
    "sns.barplot(y=df['samples'],x=df['class'],data=df)\n",
    "plt.title('Samples/Class After Augmentation')\n",
    "plt.show()\n"
   ]
  },
  {
   "cell_type": "code",
   "execution_count": 19,
   "metadata": {},
   "outputs": [],
   "source": [
    "#converting tensors dataset to list for easy manipulation\n",
    "dataset_train=list(dataset_train)"
   ]
  },
  {
   "cell_type": "code",
   "execution_count": 20,
   "metadata": {
    "id": "7WJGLM6_bSkH"
   },
   "outputs": [
    {
     "name": "stderr",
     "output_type": "stream",
     "text": [
      "  0%|          | 0/5 [00:00<?, ?it/s]/users/ugrad/aggarwau/.local/lib/python3.8/site-packages/torchvision/transforms/functional_tensor.py:876: UserWarning: Argument fill/fillcolor is not supported for Tensor input. Fill value is zero\n",
      "  warnings.warn(\"Argument fill/fillcolor is not supported for Tensor input. Fill value is zero\")\n",
      "100%|██████████| 5/5 [00:06<00:00,  1.38s/it]"
     ]
    },
    {
     "name": "stdout",
     "output_type": "stream",
     "text": [
      "Added 5 Augemented Images/class for each user to dataset\n",
      "\n",
      "Number of Samples for Each user after Augmentation: 8327\n"
     ]
    },
    {
     "name": "stderr",
     "output_type": "stream",
     "text": [
      "\n"
     ]
    },
    {
     "data": {
      "image/png": "[encoded data removed]",
      "text/plain": [
       "<Figure size 1080x720 with 1 Axes>"
      ]
     },
     "metadata": {
      "needs_background": "light"
     },
     "output_type": "display_data"
    }
   ],
   "source": [
    "#Adding augmentated images to the dataset, specify the s value (s defines the number of aug image you want to add)\n",
    "\n",
    "dict_users,dataset_train=normal_aug(dict_users,dataset_train,idx,num_user,s=5)\n",
    "\n",
    "#Evaluate this cell to check the barplot of count the number of images/class after augmentation\n",
    "samples=[]\n",
    "classes=[]\n",
    "temp=list()\n",
    "print('\\nNumber of Samples for Each user after Augmentation: '+str(len(dict_users[0])))\n",
    "for i in dict_users[0]: \n",
    "    temp.append(dataset_train[i][1])\n",
    "for i in range(10):\n",
    "    classes.append(i) \n",
    "    samples.append(temp.count(i))\n",
    "\n",
    "mydict={'class':classes,\n",
    "        'samples':samples}\n",
    "\n",
    "plt.figure(figsize=(15,10))\n",
    "df=pd.DataFrame(mydict,columns=['class','samples'])\n",
    "sns.barplot(y=df['samples'],x=df['class'],data=df)\n",
    "plt.title('Samples/Class After Augmentation')\n",
    "plt.show()\n"
   ]
  },
  {
   "cell_type": "code",
   "execution_count": 21,
   "metadata": {
    "id": "qXn3GwWhDkVX"
   },
   "outputs": [],
   "source": [
    "#converting image shape 'tensor(c,h,w)' --> numpy(h,w,c)' which is easy to train\n",
    "for i in range(len(dataset_train)):\n",
    "    temp=dataset_train[i][0]\n",
    "    if(temp.shape!=image_shape):\n",
    "        temp=np.transpose(temp.numpy())\n",
    "    dataset_train[i]=[temp,dataset_train[i][1]]"
   ]
  },
  {
   "cell_type": "code",
   "execution_count": 22,
   "metadata": {},
   "outputs": [
    {
     "data": {
      "text/plain": [
       "(14, 14, 3)"
      ]
     },
     "execution_count": 22,
     "metadata": {},
     "output_type": "execute_result"
    }
   ],
   "source": [
    "dataset_train[56850][0].shape"
   ]
  },
  {
   "cell_type": "code",
   "execution_count": 23,
   "metadata": {
    "id": "ET_I4WH57JsY"
   },
   "outputs": [],
   "source": [
    "#process and batch the training data for each client\n",
    "clients_batched = dict()\n",
    "lb=LabelBinarizer()\n",
    "for (client_name, img_indxs) in dict_users.items():\n",
    "    clients_batched[client_name] = batch_data(lb,img_indxs,dataset_train)"
   ]
  },
  {
   "cell_type": "code",
   "execution_count": 24,
   "metadata": {},
   "outputs": [],
   "source": [
    "#creating 2 test set for validation\n",
    "test_batched_1,test_batched_2=test_data(lb,dataset_test)"
   ]
  },
  {
   "cell_type": "code",
   "execution_count": 25,
   "metadata": {
    "id": "XmU7NRa530nP"
   },
   "outputs": [],
   "source": [
    "#deleting the datasets to free some memory.\n",
    "del dataset_test\n",
    "del dataset_train"
   ]
  },
  {
   "cell_type": "code",
   "execution_count": 26,
   "metadata": {
    "id": "a3NcbmHp7RrS"
   },
   "outputs": [],
   "source": [
    "def weight_scalling_factor(clients_trn_data, client_name):\n",
    "    client_names = list(clients_trn_data.keys())\n",
    "    #get the bs\n",
    "    bs = list(clients_trn_data[client_name])[0][0].shape[0]\n",
    "    #first calculate the total training data points across clinets\n",
    "    global_count = sum([tf.data.experimental.cardinality(clients_trn_data[client_name]).numpy() for client_name in client_names])*bs\n",
    "    # get the total number of data points held by a client\n",
    "    local_count = tf.data.experimental.cardinality(clients_trn_data[client_name]).numpy()*bs\n",
    "    return local_count/global_count\n",
    "\n",
    "\n",
    "def scale_model_weights(weight, scalar):\n",
    "    '''function for scaling a models weights'''\n",
    "    weight_final = []\n",
    "    steps = len(weight)\n",
    "    for i in range(steps):\n",
    "        weight_final.append(scalar * weight[i])\n",
    "    return weight_final\n",
    "\n",
    "\n",
    "\n",
    "def sum_scaled_weights(scaled_weight_list):\n",
    "    '''Return the sum of the listed scaled weights. The is equivalent to scaled avg of the weights'''\n",
    "    avg_grad = list()\n",
    "    #get the average grad accross all client gradients\n",
    "    for grad_list_tuple in zip(*scaled_weight_list):\n",
    "        layer_mean = tf.math.reduce_sum(grad_list_tuple, axis=0)\n",
    "        avg_grad.append(layer_mean)\n",
    "        \n",
    "    return avg_grad\n",
    "\n",
    "\n",
    "def test_model(X_test, Y_test,  model, comm_round):\n",
    "    cce = tf.keras.losses.CategoricalCrossentropy(from_logits=True)\n",
    "    #logits = model.predict(X_test, batch_size=100)\n",
    "    logits = model.predict(X_test)\n",
    "    loss = cce(Y_test, logits)\n",
    "    acc = accuracy_score(tf.argmax(logits, axis=1), tf.argmax(Y_test, axis=1))\n",
    "    print('comm_round: {} | global_acc: {:.3%} | global_loss: {}'.format(comm_round, acc, loss))\n",
    "    return acc, loss"
   ]
  },
  {
   "cell_type": "code",
   "execution_count": 14,
   "metadata": {},
   "outputs": [],
   "source": [
    "#Evaluate this cell, if you wan tot train last updated global model instead of starting again\n",
    "# json_file = open('model.json', 'r')\n",
    "# loaded_model_json = json_file.read()\n",
    "# json_file.close()\n",
    "# global_model = model_from_json(loaded_model_json)\n",
    "# # load weights into new model\n",
    "# global_model.load_weights(\"model.h5\")\n",
    "# print(\"Loaded model from disk\") "
   ]
  },
  {
   "cell_type": "code",
   "execution_count": 27,
   "metadata": {
    "id": "pCILYXJ97TUU",
    "scrolled": true
   },
   "outputs": [
    {
     "name": "stdout",
     "output_type": "stream",
     "text": [
      "Saved model to disk\n",
      "comm_round: 0 | global_acc: 16.200% | global_loss: 2.3019425868988037\n",
      "Saved model to disk\n",
      "comm_round: 1 | global_acc: 18.800% | global_loss: 2.2904582023620605\n",
      "Saved model to disk\n",
      "comm_round: 2 | global_acc: 25.640% | global_loss: 2.263974189758301\n",
      "Saved model to disk\n",
      "comm_round: 3 | global_acc: 27.020% | global_loss: 2.269014358520508\n",
      "Saved model to disk\n",
      "comm_round: 4 | global_acc: 30.200% | global_loss: 2.2492856979370117\n",
      "Saved model to disk\n",
      "comm_round: 5 | global_acc: 32.080% | global_loss: 2.2465360164642334\n",
      "Saved model to disk\n",
      "comm_round: 6 | global_acc: 33.840% | global_loss: 2.221561908721924\n",
      "Saved model to disk\n",
      "comm_round: 7 | global_acc: 34.660% | global_loss: 2.227628231048584\n",
      "Saved model to disk\n",
      "comm_round: 8 | global_acc: 37.160% | global_loss: 2.195589065551758\n",
      "Saved model to disk\n",
      "comm_round: 9 | global_acc: 37.340% | global_loss: 2.209622859954834\n",
      "Saved model to disk\n",
      "comm_round: 10 | global_acc: 38.980% | global_loss: 2.164522886276245\n",
      "Saved model to disk\n",
      "comm_round: 11 | global_acc: 39.700% | global_loss: 2.1800050735473633\n",
      "Saved model to disk\n",
      "comm_round: 12 | global_acc: 40.380% | global_loss: 2.154269218444824\n",
      "Saved model to disk\n",
      "comm_round: 13 | global_acc: 40.940% | global_loss: 2.16040301322937\n",
      "Saved model to disk\n",
      "comm_round: 14 | global_acc: 43.940% | global_loss: 2.1207234859466553\n",
      "Saved model to disk\n",
      "comm_round: 15 | global_acc: 42.860% | global_loss: 2.135589361190796\n",
      "Saved model to disk\n",
      "comm_round: 16 | global_acc: 44.340% | global_loss: 2.1260311603546143\n",
      "Saved model to disk\n",
      "comm_round: 17 | global_acc: 45.040% | global_loss: 2.107602834701538\n",
      "Saved model to disk\n",
      "comm_round: 18 | global_acc: 46.160% | global_loss: 2.100896120071411\n",
      "Saved model to disk\n",
      "comm_round: 19 | global_acc: 46.500% | global_loss: 2.0909438133239746\n",
      "Saved model to disk\n",
      "comm_round: 20 | global_acc: 47.200% | global_loss: 2.0864009857177734\n",
      "Saved model to disk\n",
      "comm_round: 21 | global_acc: 47.280% | global_loss: 2.0749104022979736\n",
      "Saved model to disk\n",
      "comm_round: 22 | global_acc: 47.400% | global_loss: 2.0737273693084717\n",
      "Saved model to disk\n",
      "comm_round: 23 | global_acc: 47.420% | global_loss: 2.0660150051116943\n",
      "Saved model to disk\n",
      "comm_round: 24 | global_acc: 48.140% | global_loss: 2.0570554733276367\n",
      "Saved model to disk\n",
      "comm_round: 25 | global_acc: 48.700% | global_loss: 2.0495383739471436\n",
      "Saved model to disk\n",
      "comm_round: 26 | global_acc: 48.740% | global_loss: 2.044316291809082\n",
      "Saved model to disk\n",
      "comm_round: 27 | global_acc: 49.260% | global_loss: 2.036754608154297\n",
      "Saved model to disk\n",
      "comm_round: 28 | global_acc: 49.260% | global_loss: 2.0295419692993164\n",
      "Saved model to disk\n",
      "comm_round: 29 | global_acc: 49.780% | global_loss: 2.031118631362915\n",
      "Saved model to disk\n",
      "comm_round: 30 | global_acc: 50.000% | global_loss: 2.0226523876190186\n",
      "Saved model to disk\n",
      "comm_round: 31 | global_acc: 50.440% | global_loss: 2.019752264022827\n",
      "Saved model to disk\n",
      "comm_round: 32 | global_acc: 50.380% | global_loss: 2.014500856399536\n",
      "Saved model to disk\n",
      "comm_round: 33 | global_acc: 50.480% | global_loss: 2.0060386657714844\n",
      "Saved model to disk\n",
      "comm_round: 34 | global_acc: 50.900% | global_loss: 2.003998041152954\n",
      "Saved model to disk\n",
      "comm_round: 35 | global_acc: 50.660% | global_loss: 1.9991378784179688\n",
      "Saved model to disk\n",
      "comm_round: 36 | global_acc: 51.260% | global_loss: 1.9945313930511475\n",
      "Saved model to disk\n",
      "comm_round: 37 | global_acc: 50.800% | global_loss: 1.9923572540283203\n",
      "Saved model to disk\n",
      "comm_round: 38 | global_acc: 51.300% | global_loss: 1.994909405708313\n",
      "Saved model to disk\n",
      "comm_round: 39 | global_acc: 51.720% | global_loss: 1.9876025915145874\n"
     ]
    }
   ],
   "source": [
    "#initialize global model\n",
    "smlp_global = models.SimpleMLP()\n",
    "global_model = smlp_global.build(10,image_shape)\n",
    "\n",
    "comm_round=40\n",
    "\n",
    "#commence global training loop\n",
    "for comm_round in range(comm_round):     \n",
    "    # get the global model's weights - will serve as the initial weights for all local models\n",
    "    global_weights = global_model.get_weights()\n",
    "\n",
    "    #initial list to collect local model weights after scalling\n",
    "    scaled_local_weight_list = list()\n",
    "#     pltCallBack = PlotLossAccuracy()\n",
    "    #randomize client data - using keys\n",
    "    client_names= list(clients_batched.keys())\n",
    "    random.shuffle(client_names)\n",
    "    \n",
    "    #loop through each client and create new local model\n",
    "    for client in client_names:\n",
    "        smlp_local = models.SimpleMLP()\n",
    "        local_model = smlp_local.build(10,image_shape)\n",
    "        #set local model weight to the weight of the global model\n",
    "        local_model.set_weights(global_weights)\n",
    "      #fit local model with client's data\n",
    "        local_model.fit(clients_batched[client], epochs=10, verbose=0,validation_data=test_batched_1)\n",
    "        \n",
    "        #scale the model weights and add to list\n",
    "        scaling_factor = weight_scalling_factor(clients_batched, client)\n",
    "        scaled_weights = scale_model_weights(local_model.get_weights(), scaling_factor)\n",
    "        scaled_local_weight_list.append(scaled_weights)\n",
    "       \n",
    "        #clear session to free memory after each communication round\n",
    "        K.clear_session()\n",
    "        \n",
    "    #to get the average over all the local model, we simply take the sum of the scaled weights\n",
    "    average_weights = sum_scaled_weights(scaled_local_weight_list)\n",
    "    \n",
    "    #update global model \n",
    "    global_model.set_weights(average_weights)\n",
    "    model_json = global_model.to_json()\n",
    "    with open(\"model.json\", \"w\") as json_file:\n",
    "        json_file.write(model_json)\n",
    "# serialize weights to HDF5\n",
    "    global_model.save_weights(\"model.h5\")\n",
    "    print(\"Saved model to disk\")\n",
    "    #test global model and print out metrics after each communications round\n",
    "    for(X_test, Y_test) in test_batched_2:\n",
    "        global_acc, global_loss = test_model(X_test, Y_test, global_model, comm_round)"
   ]
  },
  {
   "cell_type": "code",
   "execution_count": null,
   "metadata": {},
   "outputs": [],
   "source": []
  },
  {
   "cell_type": "code",
   "execution_count": null,
   "metadata": {},
   "outputs": [],
   "source": []
  }
 ],
 "metadata": {
  "accelerator": "TPU",
  "colab": {
   "collapsed_sections": [],
   "name": "mnist_non_iid (1).ipynb",
   "private_outputs": true,
   "provenance": []
  },
  "kernelspec": {
   "display_name": "Python 3",
   "language": "python",
   "name": "python3"
  },
  "language_info": {
   "codemirror_mode": {
    "name": "ipython",
    "version": 3
   },
   "file_extension": ".py",
   "mimetype": "text/x-python",
   "name": "python",
   "nbconvert_exporter": "python",
   "pygments_lexer": "ipython3",
   "version": "3.8.6"
  }
 },
 "nbformat": 4,
 "nbformat_minor": 4
}
