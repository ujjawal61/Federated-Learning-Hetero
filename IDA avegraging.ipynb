{
 "cells": [
  {
   "cell_type": "code",
   "execution_count": 1,
   "metadata": {
    "id": "bzA07dxE61T_"
   },
   "outputs": [],
   "source": [
    "from torchvision import datasets, transforms\n",
    "import numpy as np\n",
    "import random\n",
    "from sklearn.preprocessing import LabelBinarizer\n",
    "import pandas as pd\n",
    "import seaborn as sns\n",
    "import tensorflow as tf\n",
    "from keras.layers import Dropout\n",
    "from tensorflow.keras.models import Sequential\n",
    "from tensorflow.keras.layers import Conv2D\n",
    "from tensorflow.keras.layers import MaxPooling2D\n",
    "from tensorflow.keras.layers import Activation\n",
    "from tensorflow.keras.layers import Flatten\n",
    "from tensorflow.keras.layers import Dense\n",
    "from tensorflow.keras.optimizers import SGD\n",
    "from tensorflow.keras import backend as K\n",
    "from sklearn.metrics import accuracy_score\n",
    "import matplotlib.pyplot as plt\n",
    "import cv2\n",
    "from keras.models import model_from_json\n",
    "#from ipywidgets import IntProgress"
   ]
  },
  {
   "cell_type": "code",
   "execution_count": 2,
   "metadata": {},
   "outputs": [],
   "source": [
    "image_size=14 #have to be even"
   ]
  },
  {
   "cell_type": "code",
   "execution_count": 3,
   "metadata": {
    "id": "J2KLvpsP64vV"
   },
   "outputs": [],
   "source": [
    "#defining the transformation method\n",
    "transform = transforms.Compose([\n",
    "    transforms.ToTensor(),\n",
    "    transforms.Resize(image_size),\n",
    "    transforms.Normalize((0.5), (0.5,)),\n",
    "])\n",
    "\n",
    "transform_train_minor = transforms.Compose([\n",
    "    transforms.RandomPerspective(),\n",
    "    transforms.RandomCrop(image_size),\n",
    "    transforms.RandomHorizontalFlip(),\n",
    "])"
   ]
  },
  {
   "cell_type": "code",
   "execution_count": 83,
   "metadata": {
    "id": "GUwRg8Cb6-2m"
   },
   "outputs": [
    {
     "name": "stdout",
     "output_type": "stream",
     "text": [
      "Files already downloaded and verified\n",
      "Files already downloaded and verified\n"
     ]
    }
   ],
   "source": [
    "#downloading the dataset\n",
    "# dataset_train = datasets.EMNIST('../data/cifar',split='digits', train=True, download = True, transform = transform)\n",
    "# dataset_test = datasets.EMNIST('../data/cifar-t',split='digits',train=False, download = True, transform = transform)\n",
    "dataset_train = datasets.CIFAR10('../data/cifar', train=True, download = True, transform = transform)\n",
    "dataset_test = datasets.CIFAR10('../data/cifar-t',train=False, download = True, transform = transform)"
   ]
  },
  {
   "cell_type": "code",
   "execution_count": 69,
   "metadata": {
    "id": "-jGKdoxL7Ddd"
   },
   "outputs": [],
   "source": [
    "#this function is sampling the cifar image index in non iid way, each client will have majority of 2 class and 8 minor class\n",
    "def distribute_noniid2(dataset, num_users, p):\n",
    "\n",
    "    idxs = np.arange(len(dataset),dtype=int)\n",
    "    labels = np.array(dataset.targets)\n",
    "    label_list = np.unique(dataset.targets)\n",
    "    \n",
    "    # sort labels\n",
    "    idxs_labels = np.vstack((idxs, labels))\n",
    "    idxs_labels = idxs_labels[:,idxs_labels[1,:].argsort()]\n",
    "    #print(idxs_labels)\n",
    "    idxs = idxs_labels[0,:]\n",
    "    idxs = idxs.astype(int)\n",
    "    n_data=int(len(dataset)/(6*num_users))\n",
    "    dict_users = {i: np.array([], dtype='int64') for i in range(num_users)}\n",
    "\n",
    "    #Sample majority class for each user\n",
    "    user_majority_labels = []\n",
    "    for i in range(num_users):\n",
    "        majority_labels = np.random.choice(label_list, 2, replace = False) #2 represent the numbers of majority classes each user will have\n",
    "        user_majority_labels.append(majority_labels)\n",
    "        #label_list = list(set(label_list) - set(majority_labels))\n",
    "        #print(label_list)\n",
    "        print(i,majority_labels)\n",
    "        majority_label_idxs = (majority_labels[0] == labels[idxs])| (majority_labels[1] == labels[idxs])# |  (majority_labels[2] == labels[idxs]) | (majority_labels[3] == labels[idxs]) |  (majority_labels[4] == labels[idxs]) | (majority_labels[5] == labels[idxs]) |  (majority_labels[6] == labels[idxs]) | (majority_labels[7] == labels[idxs]) |  (majority_labels[8] == labels[idxs]) | (majority_labels[9] == labels[idxs]) |  (majority_labels[10] == labels[idxs]) | (majority_labels[11] == labels[idxs]) |  (majority_labels[12] == labels[idxs]) | (majority_labels[13] == labels[idxs]) | (majority_labels[14] == labels[idxs]) | (majority_labels[15] == labels[idxs]) |  (majority_labels[16] == labels[idxs]) | (majority_labels[17] == labels[idxs]) |  (majority_labels[18] == labels[idxs]) | (majority_labels[19] == labels[idxs]) \n",
    "        \n",
    "        sub_data_idxs = np.random.choice(idxs[majority_label_idxs], int(p*n_data), replace = False)\n",
    "        \n",
    "        dict_users[i] = np.concatenate((dict_users[i],sub_data_idxs))\n",
    "        idxs = np.array(list(set(idxs) - set(sub_data_idxs)))\n",
    "        \n",
    "        #assigning minor classes to each client\n",
    "    if(p < 1.0):\n",
    "        for i in range(num_users):\n",
    "            majority_labels = user_majority_labels[i]\n",
    "            \n",
    "            non_majority_label_idxs = (majority_labels[0] != labels[idxs]) | (majority_labels[1] != labels[idxs])# |  (majority_labels[2] != labels[idxs]) | (majority_labels[3] != labels[idxs]) |  (majority_labels[4] != labels[idxs]) | (majority_labels[5] != labels[idxs]) |  (majority_labels[6] != labels[idxs]) | (majority_labels[7] != labels[idxs]) |  (majority_labels[8] != labels[idxs]) | (majority_labels[9] != labels[idxs]) |  (majority_labels[10] != labels[idxs]) | (majority_labels[11] != labels[idxs]) |  (majority_labels[12] != labels[idxs]) | (majority_labels[13] != labels[idxs]) | (majority_labels[14] != labels[idxs]) | (majority_labels[15] != labels[idxs]) |  (majority_labels[16] != labels[idxs]) | (majority_labels[17] != labels[idxs]) |  (majority_labels[18] != labels[idxs]) | (majority_labels[19] != labels[idxs]) \n",
    "            \n",
    "            sub_data_idxs = np.random.choice(idxs[non_majority_label_idxs], int((1-p)*n_data), replace = False)\n",
    "            \n",
    "            dict_users[i] = np.concatenate((dict_users[i], sub_data_idxs))\n",
    "            idxs = np.array(list(set(idxs) - set(sub_data_idxs)))\n",
    "    idx=int((p)*n_data)\n",
    "    return dict_users,idx"
   ]
  },
  {
   "cell_type": "code",
   "execution_count": 70,
   "metadata": {
    "id": "qs9XZodo7FnF"
   },
   "outputs": [
    {
     "name": "stdout",
     "output_type": "stream",
     "text": [
      "0 [5 0]\n",
      "1 [5 2]\n",
      "2 [8 3]\n",
      "3 [4 5]\n",
      "4 [9 7]\n",
      "5 [2 9]\n",
      "6 [6 2]\n",
      "7 [0 6]\n",
      "8 [7 1]\n",
      "9 [8 3]\n",
      "10 [8 1]\n",
      "11 [6 5]\n",
      "12 [5 2]\n",
      "13 [5 2]\n",
      "14 [0 3]\n",
      "15 [8 0]\n",
      "16 [4 2]\n",
      "17 [5 2]\n",
      "18 [2 6]\n",
      "19 [5 6]\n",
      "20 [1 2]\n",
      "21 [6 2]\n",
      "22 [7 4]\n",
      "23 [3 1]\n",
      "24 [6 1]\n",
      "25 [9 7]\n",
      "26 [1 5]\n",
      "27 [5 8]\n",
      "28 [5 3]\n",
      "29 [9 0]\n",
      "30 [9 6]\n",
      "31 [6 2]\n",
      "32 [9 6]\n",
      "33 [2 4]\n",
      "34 [2 3]\n",
      "35 [6 2]\n",
      "36 [8 3]\n",
      "37 [4 5]\n",
      "38 [7 1]\n",
      "39 [9 2]\n",
      "40 [9 7]\n",
      "41 [0 2]\n",
      "42 [6 8]\n",
      "43 [6 3]\n",
      "44 [6 3]\n",
      "45 [2 0]\n",
      "46 [5 9]\n",
      "47 [0 3]\n",
      "48 [1 6]\n",
      "49 [7 4]\n"
     ]
    }
   ],
   "source": [
    "num_user=50\n",
    "p=0.7 #p is what percentage in each class, majority classs will cover the dataset\n",
    "dict_users,idx = distribute_noniid2(dataset_train,num_user,p)"
   ]
  },
  {
   "cell_type": "code",
   "execution_count": 84,
   "metadata": {
    "id": "PQh9RRxu7Gwc"
   },
   "outputs": [],
   "source": [
    "#using image augmentation twice and add 4 transformed image\n",
    "def augment_image(dataset,idx,num_user):\n",
    "    dataset=list(dataset)\n",
    "    count=len(dataset)-1\n",
    "    final_idx=len(dict_users[0])\n",
    "    for j in range(num_user):\n",
    "        for i in dict_users[j][idx:final_idx]:\n",
    "            label=dataset[i][1]   #blurring the datatset\n",
    "            \n",
    "            img1=cv2.blur(dataset[i][0].numpy(),(2,2))\n",
    "            img1=np.transpose(img1)\n",
    "            dataset.append([img1,label])   \n",
    "            count += 1\n",
    "            dict_users[j] = np.append(dict_users[j], count)\n",
    "            \n",
    "            for k in range(4):\n",
    "                img2=transform_train_minor(dataset[i][0])  #using the trasformation technique\n",
    "                img2=np.transpose(img2.numpy())\n",
    "                dataset.append([img2,label])   \n",
    "                count += 1\n",
    "                dict_users[j] = np.append(dict_users[j], count)\n",
    "            \n",
    "    return dict_users,dataset"
   ]
  },
  {
   "cell_type": "code",
   "execution_count": 85,
   "metadata": {
    "id": "7WJGLM6_bSkH"
   },
   "outputs": [
    {
     "name": "stderr",
     "output_type": "stream",
     "text": [
      "/users/ugrad/aggarwau/.local/lib/python3.8/site-packages/torchvision/transforms/functional_tensor.py:876: UserWarning: Argument fill/fillcolor is not supported for Tensor input. Fill value is zero\n",
      "  warnings.warn(\"Argument fill/fillcolor is not supported for Tensor input. Fill value is zero\")\n"
     ]
    }
   ],
   "source": [
    "dict_users,dataset_train=augment_image(dataset_train,idx,num_user)"
   ]
  },
  {
   "cell_type": "code",
   "execution_count": 71,
   "metadata": {
    "id": "h5OUsc28kyqS"
   },
   "outputs": [
    {
     "data": {
      "image/png": "[encoded data removed]",
      "text/plain": [
       "<Figure size 1080x720 with 1 Axes>"
      ]
     },
     "metadata": {
      "needs_background": "light"
     },
     "output_type": "display_data"
    },
    {
     "name": "stdout",
     "output_type": "stream",
     "text": [
      "165\n"
     ]
    }
   ],
   "source": [
    "# code to check number of images/classes\n",
    "\n",
    "samples=[]\n",
    "classes=[]\n",
    "temp=list()\n",
    "for i in dict_users[0]: \n",
    "    temp.append(dataset_train[i][1])\n",
    "for i in range(10):\n",
    "    classes.append(i) \n",
    "    samples.append(temp.count(i))\n",
    "\n",
    "mydict={'class':classes,\n",
    "           'samples':samples}\n",
    "plt.figure(figsize=(15,10))\n",
    "df=pd.DataFrame(mydict,columns=['class','samples'])\n",
    "sns.barplot(y=df['samples'],x=df['class'],data=df)\n",
    "plt.show()\n",
    "print(len(dict_users[0]))"
   ]
  },
  {
   "cell_type": "code",
   "execution_count": 86,
   "metadata": {},
   "outputs": [
    {
     "name": "stdout",
     "output_type": "stream",
     "text": [
      "total sample 410\n"
     ]
    },
    {
     "data": {
      "image/png": "[encoded data removed]",
      "text/plain": [
       "<Figure size 1080x720 with 1 Axes>"
      ]
     },
     "metadata": {
      "needs_background": "light"
     },
     "output_type": "display_data"
    }
   ],
   "source": [
    "# code to check number of images/classes\n",
    "samples=[]\n",
    "classes=[]\n",
    "temp=list()\n",
    "for i in dict_users[0]: \n",
    "     temp.append(dataset_train[i][1])\n",
    "for i in range(10):\n",
    "    classes.append(i) \n",
    "    samples.append(temp.count(i))\n",
    "    \n",
    "mydict={'class':classes,\n",
    "       'samples':samples}\n",
    "plt.figure(figsize=(15,10))\n",
    "df=pd.DataFrame(mydict,columns=['class','samples'])\n",
    "sns.barplot(y=df['samples'],x=df['class'],data=df)\n",
    "print('total sample',len(dict_users[0]))"
   ]
  },
  {
   "cell_type": "code",
   "execution_count": 87,
   "metadata": {
    "id": "qXn3GwWhDkVX"
   },
   "outputs": [],
   "source": [
    "#checking image shape for each class, if not desired one then converting it \n",
    "dataset_train1=[]\n",
    "for i in range(len(dataset_train)):\n",
    "    temp=dataset_train[i][0]\n",
    "    if(temp.shape!=(image_size,image_size,3)):\n",
    "        temp=np.transpose(temp.numpy())\n",
    "    dataset_train1.append(temp)"
   ]
  },
  {
   "cell_type": "code",
   "execution_count": 88,
   "metadata": {
    "id": "eeoPFXhC7ITW"
   },
   "outputs": [],
   "source": [
    "#creating a batch data per client and binarzing the target \n",
    "lb=LabelBinarizer()\n",
    "def batch_data(data_shard):\n",
    "    bs=len(data_shard)\n",
    "    label=[]\n",
    "    img=[]\n",
    "    for i in data_shard:\n",
    "        label.append(dataset_train[i][1])\n",
    "        img.append(dataset_train1[i])    \n",
    "    label=lb.fit_transform(label)\n",
    "    dataset = tf.data.Dataset.from_tensor_slices((list(img),list(label)))\n",
    "    return dataset.shuffle(len(label)).batch(bs)\n"
   ]
  },
  {
   "cell_type": "code",
   "execution_count": 89,
   "metadata": {
    "id": "ET_I4WH57JsY"
   },
   "outputs": [],
   "source": [
    "#process and batch the training data for each client\n",
    "clients_batched = dict()\n",
    "for (client_name, data) in dict_users.items():\n",
    "    clients_batched[client_name] = batch_data(data)"
   ]
  },
  {
   "cell_type": "code",
   "execution_count": 76,
   "metadata": {
    "id": "zWQ14gtI7K6g"
   },
   "outputs": [],
   "source": [
    "num_sample1=len(dataset_test)//2\n",
    "\n",
    "num_sample=len(dataset_test)\n",
    "#process and batch the 2test set(one for local model and one for global)\n",
    "label=[]\n",
    "data=[]\n",
    "dataset_test1=[]\n",
    "for i in range(num_sample1):\n",
    "    label.append(dataset_test[i][1])\n",
    "    temp=dataset_test[i][0].numpy()\n",
    "    image=np.transpose(temp)\n",
    "    data.append(image) \n",
    "label=lb.fit_transform(label)\n",
    "    \n",
    "test_batched_1 = tf.data.Dataset.from_tensor_slices((list(data), list(label))).batch(num_sample)\n",
    "\n",
    "label=[]\n",
    "data=[]\n",
    "dataset_test1=[]\n",
    "for i in range(num_sample1,num_sample):\n",
    "    label.append(dataset_test[i][1])\n",
    "    temp=dataset_test[i][0].numpy()\n",
    "    image=np.transpose(temp)\n",
    "    data.append(image) \n",
    "label=lb.fit_transform(label)\n",
    "    \n",
    "test_batched_2 = tf.data.Dataset.from_tensor_slices((list(data), list(label))).batch(num_sample)"
   ]
  },
  {
   "cell_type": "code",
   "execution_count": 90,
   "metadata": {
    "id": "fWEReMKb7MU4"
   },
   "outputs": [],
   "source": [
    "#building a simple NN\n",
    "class SimpleMLP:\n",
    "    @staticmethod\n",
    "    def build(classes):\n",
    "        model = Sequential()\n",
    "        model.add(Conv2D(32, (3, 3), activation='relu', kernel_initializer='he_uniform', padding='same', input_shape=(image_size,image_size,3)))\n",
    "        model.add(Conv2D(32, (3, 3), activation='relu', kernel_initializer='he_uniform', padding='same'))\n",
    "       # model.add(MaxPooling2D((2, 2)))\n",
    "        model.add(Conv2D(64, (3, 3), activation='relu', kernel_initializer='he_uniform', padding='same'))\n",
    "        model.add(Conv2D(64, (3, 3), activation='relu', kernel_initializer='he_uniform', padding='same'))\n",
    "        model.add(MaxPooling2D((2, 2)))\n",
    "        model.add(Conv2D(128, (3, 3), activation='relu', kernel_initializer='he_uniform', padding='same'))\n",
    "        model.add(Conv2D(128, (3, 3), activation='relu', kernel_initializer='he_uniform', padding='same'))\n",
    "        model.add(MaxPooling2D((2, 2)))\n",
    "        model.add(Dropout(0.3))\n",
    "        model.add(Conv2D(256, (3, 3), activation='relu', kernel_initializer='he_uniform', padding='same'))\n",
    "        model.add(Conv2D(256, (3, 3), activation='relu', kernel_initializer='he_uniform', padding='same'))\n",
    "        model.add(MaxPooling2D((2, 2)))\n",
    "        model.add(Flatten())       \n",
    "        model.add(Dense(500, activation='relu', kernel_initializer='he_uniform'))\n",
    "        model.add(Dropout(0.3))\n",
    "        model.add(Dense(128, activation='relu', kernel_initializer='he_uniform'))\n",
    "        model.add(Dropout(0.3))\n",
    "        model.add(Dense(classes, activation='softmax'))\n",
    "        model.compile(loss='categorical_crossentropy',\n",
    "                      optimizer='adam', \n",
    "                      metrics=['accuracy'])\n",
    "        #print(model.summary())\n",
    "        return model"
   ]
  },
  {
   "cell_type": "code",
   "execution_count": 91,
   "metadata": {
    "id": "XmU7NRa530nP"
   },
   "outputs": [
    {
     "ename": "NameError",
     "evalue": "name 'dataset_test1' is not defined",
     "output_type": "error",
     "traceback": [
      "\u001b[0;31m---------------------------------------------------------------------------\u001b[0m",
      "\u001b[0;31mNameError\u001b[0m                                 Traceback (most recent call last)",
      "\u001b[0;32m<ipython-input-91-752431541fb3>\u001b[0m in \u001b[0;36m<module>\u001b[0;34m\u001b[0m\n\u001b[1;32m      2\u001b[0m \u001b[0;32mdel\u001b[0m \u001b[0mdataset_train\u001b[0m\u001b[0;34m\u001b[0m\u001b[0;34m\u001b[0m\u001b[0m\n\u001b[1;32m      3\u001b[0m \u001b[0;32mdel\u001b[0m \u001b[0mdataset_train1\u001b[0m\u001b[0;34m\u001b[0m\u001b[0;34m\u001b[0m\u001b[0m\n\u001b[0;32m----> 4\u001b[0;31m \u001b[0;32mdel\u001b[0m \u001b[0mdataset_test1\u001b[0m\u001b[0;34m\u001b[0m\u001b[0;34m\u001b[0m\u001b[0m\n\u001b[0m\u001b[1;32m      5\u001b[0m \u001b[0;32mdel\u001b[0m \u001b[0mdata\u001b[0m\u001b[0;34m\u001b[0m\u001b[0;34m\u001b[0m\u001b[0m\n",
      "\u001b[0;31mNameError\u001b[0m: name 'dataset_test1' is not defined"
     ]
    }
   ],
   "source": [
    "del dataset_test\n",
    "del dataset_train\n",
    "del dataset_train1\n",
    "del dataset_test1\n",
    "del data"
   ]
  },
  {
   "cell_type": "code",
   "execution_count": 92,
   "metadata": {
    "id": "a3NcbmHp7RrS"
   },
   "outputs": [],
   "source": [
    "def scale_model_weights(Z,local_weight,global_weight):\n",
    "    '''function for scaling a models weights'''\n",
    "    weight_final = []\n",
    "    steps = len(global_weight)\n",
    "    alpha=0\n",
    "    for i in range(steps):\n",
    "        w_client=np.array(local_weight[i])   #taking local weights\n",
    "        w_avg= np.array(global_weight[i])    #taking current global weights\n",
    "        l1=np.linalg.norm(w_avg-w_client)    #calculating the l1 norm\n",
    "        Z[i] = Z[i] + l1                     #updating the normalizing factor\n",
    "        alpha=l1/Z[i]                        #calculating the final alpha value\n",
    "        weight_final.append(alpha * local_weight[i])  #appending the updated weights to the scaled weight list\n",
    "    return weight_final,Z\n",
    "\n",
    "def sum_scaled_weights(scaled_list):\n",
    "    #get the IDA average grad accross all client gradients\n",
    "    avg_grad = list()\n",
    "    for grad_list_tuple in zip(*scaled_list):\n",
    "        layer_mean = tf.math.reduce_sum(grad_list_tuple, axis=0)\n",
    "        avg_grad.append(layer_mean)\n",
    "    return avg_grad\n",
    "\n",
    "def test_model(X_test, Y_test,  model, comm_round):\n",
    "    cce = tf.keras.losses.CategoricalCrossentropy(from_logits=True)\n",
    "    #logits = model.predict(X_test, batch_size=100)\n",
    "    logits = model.predict(X_test)\n",
    "    loss = cce(Y_test, logits)\n",
    "    acc = accuracy_score(tf.argmax(logits, axis=1), tf.argmax(Y_test, axis=1))\n",
    "    print('comm_round: {} | global_acc: {:.3%} | global_loss: {}'.format(comm_round, acc, loss))\n",
    "    return acc, loss"
   ]
  },
  {
   "cell_type": "code",
   "execution_count": 93,
   "metadata": {},
   "outputs": [],
   "source": [
    "# json_file = open('model.json', 'r')\n",
    "# loaded_model_json = json_file.read()\n",
    "# json_file.close()\n",
    "# global_model = model_from_json(loaded_model_json)\n",
    "# # load weights into new model\n",
    "# global_model.load_weights(\"model.h5\")\n",
    "# print(\"Loaded model from disk\") "
   ]
  },
  {
   "cell_type": "code",
   "execution_count": 94,
   "metadata": {
    "id": "pCILYXJ97TUU",
    "scrolled": true
   },
   "outputs": [
    {
     "name": "stdout",
     "output_type": "stream",
     "text": [
      "Saved model to disk\n",
      "comm_round: 0 | global_acc: 11.800% | global_loss: 2.3023202419281006\n",
      "Saved model to disk\n",
      "comm_round: 1 | global_acc: 14.280% | global_loss: 2.2976598739624023\n",
      "Saved model to disk\n",
      "comm_round: 2 | global_acc: 21.620% | global_loss: 2.26842999458313\n",
      "Saved model to disk\n",
      "comm_round: 3 | global_acc: 24.160% | global_loss: 2.267639398574829\n",
      "Saved model to disk\n",
      "comm_round: 4 | global_acc: 29.680% | global_loss: 2.2307379245758057\n",
      "Saved model to disk\n",
      "comm_round: 5 | global_acc: 31.940% | global_loss: 2.233262777328491\n",
      "Saved model to disk\n",
      "comm_round: 6 | global_acc: 33.500% | global_loss: 2.195194959640503\n",
      "Saved model to disk\n",
      "comm_round: 7 | global_acc: 34.700% | global_loss: 2.1960806846618652\n",
      "Saved model to disk\n",
      "comm_round: 8 | global_acc: 36.240% | global_loss: 2.164689064025879\n",
      "Saved model to disk\n",
      "comm_round: 9 | global_acc: 37.060% | global_loss: 2.1562323570251465\n",
      "Saved model to disk\n",
      "comm_round: 10 | global_acc: 37.880% | global_loss: 2.1424505710601807\n",
      "Saved model to disk\n",
      "comm_round: 11 | global_acc: 38.240% | global_loss: 2.129030704498291\n",
      "Saved model to disk\n",
      "comm_round: 12 | global_acc: 38.540% | global_loss: 2.120976209640503\n",
      "Saved model to disk\n",
      "comm_round: 13 | global_acc: 39.320% | global_loss: 2.1097254753112793\n",
      "Saved model to disk\n",
      "comm_round: 14 | global_acc: 40.400% | global_loss: 2.1024835109710693\n",
      "Saved model to disk\n",
      "comm_round: 15 | global_acc: 40.860% | global_loss: 2.095463752746582\n",
      "Saved model to disk\n",
      "comm_round: 16 | global_acc: 41.480% | global_loss: 2.088294506072998\n",
      "Saved model to disk\n",
      "comm_round: 17 | global_acc: 41.840% | global_loss: 2.0812621116638184\n",
      "Saved model to disk\n",
      "comm_round: 18 | global_acc: 42.000% | global_loss: 2.0732922554016113\n",
      "Saved model to disk\n",
      "comm_round: 19 | global_acc: 42.460% | global_loss: 2.0680935382843018\n",
      "Saved model to disk\n",
      "comm_round: 20 | global_acc: 42.980% | global_loss: 2.061455011367798\n",
      "Saved model to disk\n",
      "comm_round: 21 | global_acc: 42.960% | global_loss: 2.059739828109741\n",
      "Saved model to disk\n",
      "comm_round: 22 | global_acc: 43.640% | global_loss: 2.0494232177734375\n",
      "Saved model to disk\n",
      "comm_round: 23 | global_acc: 43.940% | global_loss: 2.0466294288635254\n",
      "Saved model to disk\n",
      "comm_round: 24 | global_acc: 44.320% | global_loss: 2.04404616355896\n",
      "Saved model to disk\n",
      "comm_round: 25 | global_acc: 44.640% | global_loss: 2.0396130084991455\n",
      "Saved model to disk\n",
      "comm_round: 26 | global_acc: 45.020% | global_loss: 2.035618305206299\n",
      "Saved model to disk\n",
      "comm_round: 27 | global_acc: 45.240% | global_loss: 2.032806396484375\n",
      "Saved model to disk\n",
      "comm_round: 28 | global_acc: 45.360% | global_loss: 2.029794454574585\n",
      "Saved model to disk\n",
      "comm_round: 29 | global_acc: 45.800% | global_loss: 2.026860237121582\n",
      "Saved model to disk\n",
      "comm_round: 30 | global_acc: 45.980% | global_loss: 2.0258402824401855\n",
      "Saved model to disk\n",
      "comm_round: 31 | global_acc: 46.060% | global_loss: 2.0210185050964355\n",
      "Saved model to disk\n",
      "comm_round: 32 | global_acc: 46.360% | global_loss: 2.022576332092285\n",
      "Saved model to disk\n",
      "comm_round: 33 | global_acc: 46.280% | global_loss: 2.0169689655303955\n",
      "Saved model to disk\n",
      "comm_round: 34 | global_acc: 46.500% | global_loss: 2.0179049968719482\n",
      "Saved model to disk\n",
      "comm_round: 35 | global_acc: 46.800% | global_loss: 2.0134952068328857\n",
      "Saved model to disk\n",
      "comm_round: 36 | global_acc: 46.660% | global_loss: 2.0155491828918457\n",
      "Saved model to disk\n",
      "comm_round: 37 | global_acc: 46.780% | global_loss: 2.011448860168457\n",
      "Saved model to disk\n",
      "comm_round: 38 | global_acc: 46.660% | global_loss: 2.0110785961151123\n",
      "Saved model to disk\n",
      "comm_round: 39 | global_acc: 47.180% | global_loss: 2.0083558559417725\n"
     ]
    }
   ],
   "source": [
    "#initialize global model\n",
    "smlp_global = SimpleMLP()\n",
    "global_model = smlp_global.build(10)\n",
    "\n",
    "comm_round=40\n",
    "Z=[0,0,0,0,0,0,0,0,0,0,0,0,0,0,0,0,0,0,0,0,0,0]\n",
    "#commence global training loop\n",
    "for comm_round in range(comm_round):     \n",
    "    # get the global model's weights - will serve as the initial weights for all local models\n",
    "    global_weights = global_model.get_weights()\n",
    "\n",
    "    #initial list to collect local model weights after scalling\n",
    "    local_weight_list = list()\n",
    "\n",
    "    #randomize client data - using keys\n",
    "    client_names= list(clients_batched.keys())\n",
    "    random.shuffle(client_names)\n",
    "    \n",
    "    #loop through each client and create new local model\n",
    "    for client in client_names:\n",
    "        smlp_local = SimpleMLP()\n",
    "        local_model = smlp_local.build(10)\n",
    "        #set local model weight to the weight of the global model\n",
    "        local_model.set_weights(global_weights)\n",
    "      #fit local model with client's data\n",
    "        local_model.fit(clients_batched[client], epochs=2, verbose=0,validation_data=test_batched_1)\n",
    "        \n",
    "        #scale the model weights and add to list\n",
    "        scaled_weights,Z = scale_model_weights(Z,local_model.get_weights(),global_model.get_weights())\n",
    "        local_weight_list.append(scaled_weights)\n",
    "       \n",
    "        #clear session to free memory after each communication round\n",
    "        K.clear_session()\n",
    "        \n",
    "    #to get the average over all the local model, we simply take the sum of the scaled weights\n",
    "    average_weights= sum_scaled_weights(local_weight_list)\n",
    "    #update global model \n",
    "    global_model.set_weights(average_weights)\n",
    "    \n",
    "    model_json = global_model.to_json()\n",
    "    with open(\"model.json\", \"w\") as json_file:\n",
    "        json_file.write(model_json)\n",
    "        \n",
    "# serialize weights to HDF5\n",
    "    global_model.save_weights(\"model.h5\")\n",
    "    print(\"Saved model to disk\")\n",
    "    #test global model and print out metrics after each communications round\n",
    "    for(X_test, Y_test) in test_batched_2:\n",
    "        global_acc, global_loss = test_model(X_test, Y_test, global_model, comm_round)"
   ]
  },
  {
   "cell_type": "code",
   "execution_count": null,
   "metadata": {},
   "outputs": [],
   "source": []
  }
 ],
 "metadata": {
  "accelerator": "TPU",
  "colab": {
   "collapsed_sections": [],
   "name": "mnist_non_iid (1).ipynb",
   "private_outputs": true,
   "provenance": []
  },
  "kernelspec": {
   "display_name": "Python 3",
   "language": "python",
   "name": "python3"
  },
  "language_info": {
   "codemirror_mode": {
    "name": "ipython",
    "version": 3
   },
   "file_extension": ".py",
   "mimetype": "text/x-python",
   "name": "python",
   "nbconvert_exporter": "python",
   "pygments_lexer": "ipython3",
   "version": "3.8.6"
  }
 },
 "nbformat": 4,
 "nbformat_minor": 4
}
